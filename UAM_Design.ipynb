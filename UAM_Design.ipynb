def UAM_Design(GW, LD, DL, Nr_l, Nr_c, V, V_h, alpha_h, alpha_c, sig, R_ratio):
    import math

    # Deisign parameters of the rotor
    delta = 0.01                  # Mean C_d0 of the blade
    a_l = 0.11                    # The slope of the AOA-C_L line of the blade
    #alpha = 2                    # AOA of the blade
    #sig = 0.3                    # Solidity of the rotor

    ######################################################################## Upper variables can be changed according to the design result

    # Constants setting & Unit converter
    g = 9.81                      # Gravitaional acceleration (m/s^2)
    pi = 3.141592                 # Pi
    a = 343                       # Speed of the sound (m/s)
    rho = 1.225                   # Density of the air (kg/m^3)
    kmh2ms = 1000/3600            # km/h to m/s 
    rad2deg = 180/pi              # radian to degree
    V = V*kmh2ms
    V_h = V_h * kmh2ms
    DL = DL * 4.88243    


    Rl = (GW / (pi * DL * Nr_l))**0.5                            # Radius of the Lift Rotor(m)
    Rc = Rl * R_ratio                                            # Raduis of the Thrust Rotor(m)
    # Calculate non-dimensional coefficient
    CT_h = sig/4 * a_l * alpha_h                                 # C_T(thrust coefficient) of the hovering(lift) rotor
    CT_c = sig/4 * a_l * alpha_c                                 # C_T(thrust coefficient) of the cruising(thrust) rotor
    #print('CT_h : ', CT_h)
    CQ_h = sig*delta/8 + (CT_h**1.5)/(2**0.5)                    # CQ = CP
    CQ_c = sig*delta/8 + (CT_c**1.5)/(2**0.5)                    
    #print('CQ_h : ', CQ_h)
    Omega_l = ((GW * g/Nr_l) / (CT_h * pi * (Rl**4) * rho))**0.5
    Omega_c = ((GW * g/(LD * Nr_c)) / (CT_c * pi * (Rc**4) * rho))**0.5 
    P_hover = CQ_h * pi * rho * Rl**5 * Omega_l**3 / 1000        # Power needed to hoever (kW)
    M_h = (CT_h**1.5)/(CQ_h * (2**0.5))                          # Figure of merit while hovering
    M_c = (CT_c**1.5)/(CQ_c * (2**0.5))                          # Figure of merit while cruising
    P_cruise = (GW * g * (V) / LD) / (M_c*1000) / Nr_c           # Power needed to cruise (kW)

    
    print('')
    print('<Hovering>')
    print('Rotor Radius : ', Rl)
    print('Power : ', P_hover)
    print(Omega_l, 'rad/sec , ', Omega_l * 60/ (2*pi), 'RPM')
    print('Roter Tip speed : ', Omega_l * Rl, 'm/s , ', Omega_l * Rl / a, 'M')
    print('Figure of Merit : ', M_h)
    print('')


    print('<Cruising>')
    print('Rotor Radius : ', Rc)
    print('Power : ', P_cruise)
    print(Omega_c, 'rad/sec , ', Omega_c * 60/ (2*pi), 'RPM')
    print('Roter Tip speed : ', Omega_c * Rc, 'm/s , ', Omega_c * Rc / a, 'M')
    print('Figure of Merit : ', M_c)
    print('')

    # Hovering
    T_h = GW * 9.81 / Nr_l
    V_tip_h = Omega_l * Rl

    v_0 = (T_h/(2 * rho * pi * Rl**2))**0.5
    v = V_h * ((1 + 2 * T_h/(rho * pi * Rl**2 * V_h**2))**0.5 - 1) * 0.5
    phi_tip_0 = rad2deg * math.atan(v_0/V_tip_h)              # inflow AOA at V = 0
    phi_tip = rad2deg * math.atan((V_h+v)/V_tip_h)            # inflow AOA while cruising
    theta_tip = phi_tip + alpha_h                             # The tilted angle of the blade of the hovering rotor
    AOA_difference_h = phi_tip - phi_tip_0                    
    print('Tip Rotor Angle : ', theta_tip)                  
    print('AOA difference : ', AOA_difference_h)           

    # Cruising
    T_c = GW * 9.81 / LD / Nr_c
    V_tip_c = Omega_c * Rc

    v_0 = (T_c/(2 * rho * pi * Rc**2))**0.5
    v = V * ((1 + 2 * T_c/(rho * pi * Rc**2 * V**2))**0.5 - 1) * 0.5
    phi_tip_0 = rad2deg * math.atan(v_0/V_tip_c)              # inflow AOA at V = 0
    phi_tip = rad2deg * math.atan((V+v)/V_tip_c)              # inflow AOA while cruising
    theta_tip = phi_tip + alpha_c                             # The tilted angle of the blade of the hovering rotor
    AOA_difference_c = phi_tip - phi_tip_0                    
    print('Tip Rotor Angle : ', theta_tip)                  
    print('AOA difference : ', AOA_difference_c)
                      

    return P_hover, Omega_l * 60/ (2*pi), P_cruise, Omega_c * 60/ (2*pi), AOA_difference_h, AOA_difference_c


UAM_Design(GW = 3000, LD = 19.13, DL = 12, Nr_l = 12, Nr_c = 2, V = 190.33, V_h = 60, alpha_h = 2, alpha_c = 2, sig = 0.30, R_ratio = 0.46)
